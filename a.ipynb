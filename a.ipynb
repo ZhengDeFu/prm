{
 "cells": [
  {
   "cell_type": "code",
   "execution_count": null,
   "id": "fb6f665e",
   "metadata": {},
   "outputs": [],
   "source": []
  },
  {
   "cell_type": "markdown",
   "id": "12e7c9d9",
   "metadata": {},
   "source": [
    "# load geometry3k\n"
   ]
  },
  {
   "cell_type": "markdown",
   "id": "f5f72502",
   "metadata": {},
   "source": [
    "Instructions:\n",
    "- If the dataset requires authentication, run `huggingface-cli login` in a terminal and login with your token before running the next cell.\n",
    "- Run the code cell that follows to download the dataset metadata and save the first 20 images from the `train` split into `data/geometry3k_images`.\n",
    "- You can change `N` in the code cell to save more or fewer images."
   ]
  },
  {
   "cell_type": "code",
   "execution_count": null,
   "id": "fcdc3ce8",
   "metadata": {},
   "outputs": [
    {
     "name": "stderr",
     "output_type": "stream",
     "text": [
      "/home/zhengdefu/.local/lib/python3.12/site-packages/tqdm/auto.py:21: TqdmWarning: IProgress not found. Please update jupyter and ipywidgets. See https://ipywidgets.readthedocs.io/en/stable/user_install.html\n",
      "  from .autonotebook import tqdm as notebook_tqdm\n",
      "Generating train split: 100%|██████████| 2101/2101 [00:00<00:00, 7253.44 examples/s]\n",
      "Generating validation split: 100%|██████████| 300/300 [00:00<00:00, 10717.80 examples/s]\n",
      "Generating test split: 100%|██████████| 601/601 [00:00<00:00, 12539.49 examples/s]\n"
     ]
    }
   ],
   "source": [
    "from datasets import load_dataset\n",
    "from pathlib import Path\n",
    "from PIL import Image\n",
    "import io\n",
    "\n",
    "# Login using e.g. `huggingface-cli login` to access this dataset\n",
    "ds = load_dataset(\"hiyouga/geometry3k\")\n",
    "\n",
    "# Directory to save images\n",
    "out_dir = Path(\"data/geometry3k_images\")\n",
    "out_dir.mkdir(parents=True, exist_ok=True)\n",
    "\n",
    "def save_image_field(img_field, out_path):\n",
    "    \"\"\"Save an image field from the dataset to disk.\n",
    "    Supports PIL Image, bytes, and URL strings (if already loaded).\"\"\"\n",
    "    if img_field is None:\n",
    "        return False\n",
    "    # If already a PIL Image\n",
    "    if isinstance(img_field, Image.Image):\n",
    "        img_field.save(out_path)\n",
    "        return True\n",
    "    # If bytes (e.g., b'\\x89PNG...')\n",
    "    if isinstance(img_field, (bytes, bytearray)):\n",
    "        try:\n",
    "            Image.open(io.BytesIO(img_field)).save(out_path)\n",
    "            return True\n",
    "        except Exception:\n",
    "            return False\n",
    "    # If it's a dict with 'bytes' or 'array' fields (common in datasets Image)\n",
    "    if isinstance(img_field, dict):\n",
    "        # try 'bytes' then 'array' (numpy) conversions\n",
    "        if 'bytes' in img_field and img_field['bytes'] is not None:\n",
    "            try:\n",
    "                Image.open(io.BytesIO(img_field['bytes'])).save(out_path)\n",
    "                return True\n",
    "            except Exception:\n",
    "                pass\n",
    "        if 'array' in img_field and img_field['array'] is not None:\n",
    "            try:\n",
    "                Image.fromarray(img_field['array']).save(out_path)\n",
    "                return True\n",
    "            except Exception:\n",
    "                pass\n",
    "    # If it's a string, it may be a local path or URL already downloaded by the dataset\n",
    "    if isinstance(img_field, str):\n",
    "        try:\n",
    "            # try opening as a file path\n",
    "            Image.open(img_field).save(out_path)\n",
    "            return True\n",
    "        except Exception:\n",
    "            return False\n",
    "    return False\n",
    "\n",
    "# Save first N images from train split as an example\n",
    "N = 20\n",
    "saved = 0\n",
    "for i, item in enumerate(ds['train']):\n",
    "    if saved >= N:\n",
    "        break\n",
    "    images = item.get('images') if isinstance(item, dict) else None\n",
    "    if not images:\n",
    "        continue\n",
    "    # images can be a list; iterate\n",
    "    if isinstance(images, (list, tuple)):\n",
    "        for j, im in enumerate(images):\n",
    "            out_path = out_dir / f'train_{i:06d}_{j}.png'\n",
    "            if save_image_field(im, out_path):\n",
    "                saved += 1\n",
    "                if saved >= N:\n",
    "                    break\n",
    "    else:\n",
    "        out_path = out_dir / f'train_{i:06d}.png'\n",
    "        if save_image_field(images, out_path):\n",
    "            saved += 1\n",
    "\n",
    "print(f'Saved {saved} images to {out_dir}')"
   ]
  },
  {
   "cell_type": "code",
   "execution_count": 6,
   "id": "0cdc69d7",
   "metadata": {},
   "outputs": [
    {
     "ename": "AttributeError",
     "evalue": "'list' object has no attribute 'save'",
     "output_type": "error",
     "traceback": [
      "\u001b[31m---------------------------------------------------------------------------\u001b[39m",
      "\u001b[31mAttributeError\u001b[39m                            Traceback (most recent call last)",
      "\u001b[36mCell\u001b[39m\u001b[36m \u001b[39m\u001b[32mIn[6]\u001b[39m\u001b[32m, line 1\u001b[39m\n\u001b[32m----> \u001b[39m\u001b[32m1\u001b[39m \u001b[43mds\u001b[49m\u001b[43m[\u001b[49m\u001b[33;43m'\u001b[39;49m\u001b[33;43mtrain\u001b[39;49m\u001b[33;43m'\u001b[39;49m\u001b[43m]\u001b[49m\u001b[43m[\u001b[49m\u001b[32;43m1\u001b[39;49m\u001b[43m]\u001b[49m\u001b[43m[\u001b[49m\u001b[33;43m'\u001b[39;49m\u001b[33;43mimages\u001b[39;49m\u001b[33;43m'\u001b[39;49m\u001b[43m]\u001b[49m\u001b[43m.\u001b[49m\u001b[43msave\u001b[49m(\u001b[33m\"\u001b[39m\u001b[33mexample.png\u001b[39m\u001b[33m\"\u001b[39m)\n",
      "\u001b[31mAttributeError\u001b[39m: 'list' object has no attribute 'save'"
     ]
    }
   ],
   "source": [
    "ds['train'][1]['images']."
   ]
  },
  {
   "cell_type": "code",
   "execution_count": null,
   "id": "0bc324f5",
   "metadata": {},
   "outputs": [],
   "source": []
  }
 ],
 "metadata": {
  "kernelspec": {
   "display_name": "Python 3",
   "language": "python",
   "name": "python3"
  },
  "language_info": {
   "codemirror_mode": {
    "name": "ipython",
    "version": 3
   },
   "file_extension": ".py",
   "mimetype": "text/x-python",
   "name": "python",
   "nbconvert_exporter": "python",
   "pygments_lexer": "ipython3",
   "version": "3.12.3"
  }
 },
 "nbformat": 4,
 "nbformat_minor": 5
}
